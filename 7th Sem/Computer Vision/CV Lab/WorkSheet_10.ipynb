{
 "cells": [
  {
   "cell_type": "code",
   "execution_count": 2,
   "id": "3a9e53d7",
   "metadata": {},
   "outputs": [
    {
     "name": "stdout",
     "output_type": "stream",
     "text": [
      "Video stabilization complete.\n"
     ]
    }
   ],
   "source": [
    "import cv2\n",
    "import numpy as np\n",
    "\n",
    "# Function to stabilize a video using template matching\n",
    "def stabilize_video(input_video_path, output_video_path, template_path, threshold=0.8):\n",
    "    cap = cv2.VideoCapture(input_video_path)\n",
    "    if not cap.isOpened():\n",
    "        print(\"Error: Could not open video.\")\n",
    "        return\n",
    "\n",
    "    template = cv2.imread(template_path, cv2.IMREAD_GRAYSCALE)  # Load the template as grayscale\n",
    "    if template is None:\n",
    "        print(\"Error: Could not open template image.\")\n",
    "        return\n",
    "\n",
    "    # Resize the template if it's larger than the video frames\n",
    "    if template.shape[0] > cap.get(4) or template.shape[1] > cap.get(3):\n",
    "        template = cv2.resize(template, (int(cap.get(3)), int(cap.get(4))))\n",
    "\n",
    "    fourcc = cv2.VideoWriter_fourcc(*'XVID')\n",
    "    out = cv2.VideoWriter(output_video_path, fourcc, 30.0, (int(cap.get(3)), int(cap.get(4))))\n",
    "\n",
    "    prev_frame = None\n",
    "\n",
    "    while True:\n",
    "        ret, frame = cap.read()\n",
    "\n",
    "        if not ret:\n",
    "            break\n",
    "\n",
    "        if prev_frame is None:\n",
    "            prev_frame = frame\n",
    "            out.write(frame)\n",
    "            continue\n",
    "\n",
    "        # Convert frames to grayscale\n",
    "        prev_gray = cv2.cvtColor(prev_frame, cv2.COLOR_BGR2GRAY)\n",
    "        current_gray = cv2.cvtColor(frame, cv2.COLOR_BGR2GRAY)\n",
    "\n",
    "        # Perform template matching\n",
    "        result = cv2.matchTemplate(current_gray, template, cv2.TM_CCOEFF_NORMED)\n",
    "        min_val, max_val, min_loc, max_loc = cv2.minMaxLoc(result)\n",
    "\n",
    "        if max_val >= threshold:\n",
    "            # Calculate the translation vector\n",
    "            x_offset = max_loc[0] - template.shape[1] // 2\n",
    "            y_offset = max_loc[1] - template.shape[0] // 2\n",
    "\n",
    "            # Apply the translation to stabilize the frame\n",
    "            translation_matrix = np.float32([[1, 0, x_offset], [0, 1, y_offset]])\n",
    "            stabilized_frame = cv2.warpAffine(frame, translation_matrix, (frame.shape[1], frame.shape[0]))\n",
    "\n",
    "            out.write(stabilized_frame)\n",
    "        else:\n",
    "            out.write(frame)\n",
    "\n",
    "        prev_frame = frame\n",
    "\n",
    "    cap.release()\n",
    "    out.release()\n",
    "    cv2.destroyAllWindows()\n",
    "    print(\"Video stabilization complete.\")\n",
    "\n",
    "input_video_path = \"videos/unstablized-video.mp4\"\n",
    "output_video_path = \"videos/output_video.mp4\"\n",
    "template_path = \"images/Vivek.png\"\n",
    "threshold = 0.8\n",
    "\n",
    "stabilize_video(input_video_path, output_video_path, template_path, threshold)"
   ]
  },
  {
   "cell_type": "code",
   "execution_count": null,
   "id": "0f28980e",
   "metadata": {},
   "outputs": [],
   "source": []
  }
 ],
 "metadata": {
  "kernelspec": {
   "display_name": "Python 3 (ipykernel)",
   "language": "python",
   "name": "python3"
  },
  "language_info": {
   "codemirror_mode": {
    "name": "ipython",
    "version": 3
   },
   "file_extension": ".py",
   "mimetype": "text/x-python",
   "name": "python",
   "nbconvert_exporter": "python",
   "pygments_lexer": "ipython3",
   "version": "3.11.4"
  }
 },
 "nbformat": 4,
 "nbformat_minor": 5
}
