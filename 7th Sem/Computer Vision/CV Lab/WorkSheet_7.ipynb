{
 "cells": [
  {
   "cell_type": "code",
   "execution_count": 2,
   "id": "b6efef3b",
   "metadata": {},
   "outputs": [],
   "source": [
    "# Import necessary libraries \n",
    "import tensorflow as tf \n",
    "from tensorflow.keras.datasets import cifar10 \n",
    "from tensorflow.keras.models import Sequential\n",
    "from tensorflow.keras.layers import Dense, Flatten, Conv2D, MaxPooling2D \n",
    "from tensorflow.keras.utils import to_categorical"
   ]
  },
  {
   "cell_type": "code",
   "execution_count": 6,
   "id": "6da47012",
   "metadata": {},
   "outputs": [
    {
     "name": "stdout",
     "output_type": "stream",
     "text": [
      "Epoch 1/10\n",
      "782/782 [==============================] - 29s 35ms/step - loss: 1.5400 - accuracy: 0.4498 - val_loss: 1.3144 - val_accuracy: 0.5407\n",
      "Epoch 2/10\n",
      "782/782 [==============================] - 25s 32ms/step - loss: 1.2184 - accuracy: 0.5712 - val_loss: 1.1751 - val_accuracy: 0.5863\n",
      "Epoch 3/10\n",
      "782/782 [==============================] - 26s 33ms/step - loss: 1.0997 - accuracy: 0.6161 - val_loss: 1.1420 - val_accuracy: 0.6051\n",
      "Epoch 4/10\n",
      "782/782 [==============================] - 26s 33ms/step - loss: 1.0218 - accuracy: 0.6452 - val_loss: 1.0760 - val_accuracy: 0.6223\n",
      "Epoch 5/10\n",
      "782/782 [==============================] - 25s 32ms/step - loss: 0.9599 - accuracy: 0.6661 - val_loss: 1.0905 - val_accuracy: 0.6190\n",
      "Epoch 6/10\n",
      "782/782 [==============================] - 27s 34ms/step - loss: 0.9100 - accuracy: 0.6817 - val_loss: 1.0976 - val_accuracy: 0.6219\n",
      "Epoch 7/10\n",
      "782/782 [==============================] - 25s 32ms/step - loss: 0.8631 - accuracy: 0.7011 - val_loss: 1.0469 - val_accuracy: 0.6388\n",
      "Epoch 8/10\n",
      "782/782 [==============================] - 27s 35ms/step - loss: 0.8244 - accuracy: 0.7131 - val_loss: 1.0589 - val_accuracy: 0.6358\n",
      "Epoch 9/10\n",
      "782/782 [==============================] - 26s 33ms/step - loss: 0.7858 - accuracy: 0.7269 - val_loss: 1.0718 - val_accuracy: 0.6303\n",
      "Epoch 10/10\n",
      "782/782 [==============================] - 25s 32ms/step - loss: 0.7489 - accuracy: 0.7405 - val_loss: 1.0450 - val_accuracy: 0.6501\n",
      "313/313 [==============================] - 2s 6ms/step - loss: 1.0450 - accuracy: 0.6501\n",
      "Accuracy: 0.6500999927520752\n"
     ]
    }
   ],
   "source": [
    "# Load and preprocess the CIFAR-10 dataset\n",
    "(X_train, y_train), (X_test, y_test) = cifar10.load_data()\n",
    "X_train = X_train.astype('float32') / 255.0\n",
    "X_test = X_test.astype('float32') / 255.0\n",
    "y_train = to_categorical(y_train, num_classes=10)\n",
    "y_test = to_categorical(y_test, num_classes=10)\n",
    "\n",
    "# Initialize the model \n",
    "model = Sequential()\n",
    "\n",
    "# Add layers to the model\n",
    "model.add(Conv2D(32, kernel_size=(3, 3), activation='relu', input_shape=(32, 32, 3)))\n",
    "model.add(MaxPooling2D(pool_size=(2, 2))) \n",
    "model.add(Flatten())\n",
    "model.add(Dense(128, activation='relu'))\n",
    "model.add(Dense(10, activation='softmax')) # Assuming 10 classes in CIFAR-10\n",
    "\n",
    "# Compile the model\n",
    "model.compile(optimizer='adam', loss='categorical_crossentropy', metrics=['accuracy'])\n",
    "\n",
    "# Train the model\n",
    "model.fit(X_train, y_train, epochs=10, batch_size=64, validation_data=(X_test, y_test))\n",
    "\n",
    "# Evaluate the model\n",
    "_, accuracy = model.evaluate(X_test, y_test)\n",
    "\n",
    "# Print the accuracy\n",
    "print(\"Accuracy:\", accuracy)"
   ]
  },
  {
   "cell_type": "code",
   "execution_count": null,
   "id": "2c9db22b",
   "metadata": {},
   "outputs": [],
   "source": []
  }
 ],
 "metadata": {
  "kernelspec": {
   "display_name": "Python 3 (ipykernel)",
   "language": "python",
   "name": "python3"
  },
  "language_info": {
   "codemirror_mode": {
    "name": "ipython",
    "version": 3
   },
   "file_extension": ".py",
   "mimetype": "text/x-python",
   "name": "python",
   "nbconvert_exporter": "python",
   "pygments_lexer": "ipython3",
   "version": "3.11.4"
  }
 },
 "nbformat": 4,
 "nbformat_minor": 5
}
