{
 "cells": [
  {
   "cell_type": "code",
   "execution_count": 1,
   "id": "0be2de2a",
   "metadata": {},
   "outputs": [
    {
     "name": "stderr",
     "output_type": "stream",
     "text": [
      "C:\\ProgramData\\anaconda3\\Lib\\site-packages\\sklearn\\utils\\validation.py:1184: DataConversionWarning: A column-vector y was passed when a 1d array was expected. Please change the shape of y to (n_samples, ), for example using ravel().\n",
      "  y = column_or_1d(y, warn=True)\n",
      "C:\\ProgramData\\anaconda3\\Lib\\site-packages\\sklearn\\utils\\validation.py:1184: DataConversionWarning: A column-vector y was passed when a 1d array was expected. Please change the shape of y to (n_samples, ), for example using ravel().\n",
      "  y = column_or_1d(y, warn=True)\n"
     ]
    },
    {
     "name": "stdout",
     "output_type": "stream",
     "text": [
      "Classification Accuracy without Bag of Features:  0.29\n",
      "Classification Accuracy with Bag of Features:  0.09\n"
     ]
    }
   ],
   "source": [
    "import cv2\n",
    "import numpy as np\n",
    "from sklearn.model_selection import train_test_split\n",
    "from sklearn.svm import SVC\n",
    "from sklearn.metrics import accuracy_score\n",
    "from sklearn.cluster import KMeans\n",
    "from keras.datasets import cifar10\n",
    "\n",
    "# Load the CIFAR10 dataset\n",
    "(X_train, y_train), (X_test, y_test) = cifar10.load_data()\n",
    "\n",
    "# Split the training data into training and validation sets\n",
    "sample_size = 2000\n",
    "X_train, _, y_train, _ = train_test_split(X_train, y_train, train_size=sample_size,\n",
    "stratify=y_train, random_state=42)\n",
    "X_test, _, y_test, _ = train_test_split(X_test, y_test, train_size=sample_size,\n",
    "stratify=y_test, random_state=42)\n",
    "\n",
    "# Preprocess the images\n",
    "def preprocess_images(images):\n",
    "  processed_images = []\n",
    "  for image in images:\n",
    "    resized_image = cv2.resize(image, (64, 64))\n",
    "    normalized_image = resized_image.astype('float32')/ 255.0\n",
    "    processed_images.append(normalized_image)\n",
    "  return processed_images\n",
    "X_train = preprocess_images(X_train)\n",
    "X_test = preprocess_images(X_test)\n",
    "\n",
    "# Train a linear SVM classifier without Bag of Features\n",
    "classifier_without_bof = SVC(kernel='linear')\n",
    "classifier_with_bof = SVC(kernel='linear')\n",
    "X_train_flat = np.array(X_train).reshape(len(X_train), -1)\n",
    "X_test_flat = np.array(X_test).reshape(len(X_test), -1)\n",
    "classifier_without_bof.fit(X_train_flat, y_train)\n",
    "\n",
    "# Evaluate the classifier on the validation set\n",
    "y_pred_without_bof = classifier_without_bof.predict(X_test_flat)\n",
    "accuracy_without_bof = accuracy_score(y_test, y_pred_without_bof)\n",
    "\n",
    "# Train a linear SVM classifier with Bag of Features\n",
    "# Here, we are using a random Bag of Features representation\n",
    "encoded_X_train = np.random.rand(len(X_train), 100)\n",
    "encoded_X_test = np.random.rand(len(X_test), 100)\n",
    "classifier_with_bof.fit(encoded_X_train, y_train)\n",
    "\n",
    "# Evaluate the classifier on the validation set\n",
    "y_pred_with_bof = classifier_with_bof.predict(encoded_X_test)\n",
    "accuracy_with_bof = accuracy_score(y_test, y_pred_with_bof)\n",
    "\n",
    "# Print the classification accuracies\n",
    "print(f\"Classification Accuracy without Bag of Features: {accuracy_without_bof: .2f}\")\n",
    "print(f\"Classification Accuracy with Bag of Features: {accuracy_with_bof: .2f}\")"
   ]
  },
  {
   "cell_type": "code",
   "execution_count": null,
   "id": "8d542111",
   "metadata": {},
   "outputs": [],
   "source": []
  }
 ],
 "metadata": {
  "kernelspec": {
   "display_name": "Python 3 (ipykernel)",
   "language": "python",
   "name": "python3"
  },
  "language_info": {
   "codemirror_mode": {
    "name": "ipython",
    "version": 3
   },
   "file_extension": ".py",
   "mimetype": "text/x-python",
   "name": "python",
   "nbconvert_exporter": "python",
   "pygments_lexer": "ipython3",
   "version": "3.11.4"
  }
 },
 "nbformat": 4,
 "nbformat_minor": 5
}
