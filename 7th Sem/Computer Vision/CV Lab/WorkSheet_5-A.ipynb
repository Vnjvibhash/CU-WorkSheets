{
 "cells": [
  {
   "cell_type": "code",
   "execution_count": 8,
   "id": "e1aecb17",
   "metadata": {},
   "outputs": [
    {
     "name": "stdout",
     "output_type": "stream",
     "text": [
      "Downloading data from https://www.cs.toronto.edu/~kriz/cifar-10-python.tar.gz\n",
      "170498071/170498071 [==============================] - 513s 3us/step\n",
      "Training Random Forest...\n"
     ]
    },
    {
     "name": "stderr",
     "output_type": "stream",
     "text": [
      "C:\\ProgramData\\anaconda3\\Lib\\site-packages\\sklearn\\base.py:1151: DataConversionWarning: A column-vector y was passed when a 1d array was expected. Please change the shape of y to (n_samples,), for example using ravel().\n",
      "  return fit_method(estimator, *args, **kwargs)\n"
     ]
    },
    {
     "name": "stdout",
     "output_type": "stream",
     "text": [
      "Random Forest Validation Accuracy: 45.38%\n",
      "Training Support Vector Machine...\n"
     ]
    },
    {
     "name": "stderr",
     "output_type": "stream",
     "text": [
      "C:\\ProgramData\\anaconda3\\Lib\\site-packages\\sklearn\\utils\\validation.py:1184: DataConversionWarning: A column-vector y was passed when a 1d array was expected. Please change the shape of y to (n_samples, ), for example using ravel().\n",
      "  y = column_or_1d(y, warn=True)\n"
     ]
    },
    {
     "name": "stdout",
     "output_type": "stream",
     "text": [
      "Support Vector Machine Validation Accuracy: 38.09%\n",
      "Training Neural Network...\n"
     ]
    },
    {
     "name": "stderr",
     "output_type": "stream",
     "text": [
      "C:\\ProgramData\\anaconda3\\Lib\\site-packages\\sklearn\\neural_network\\_multilayer_perceptron.py:1102: DataConversionWarning: A column-vector y was passed when a 1d array was expected. Please change the shape of y to (n_samples, ), for example using ravel().\n",
      "  y = column_or_1d(y, warn=True)\n",
      "C:\\ProgramData\\anaconda3\\Lib\\site-packages\\sklearn\\neural_network\\_multilayer_perceptron.py:691: ConvergenceWarning: Stochastic Optimizer: Maximum iterations (100) reached and the optimization hasn't converged yet.\n",
      "  warnings.warn(\n"
     ]
    },
    {
     "name": "stdout",
     "output_type": "stream",
     "text": [
      "Neural Network Validation Accuracy: 48.06%\n",
      "Training Deep Neural Network...\n",
      "Epoch 1/10\n",
      "1250/1250 [==============================] - 13s 9ms/step - loss: 1.9079 - accuracy: 0.3087 - val_loss: 1.8048 - val_accuracy: 0.3507\n",
      "Epoch 2/10\n",
      "1250/1250 [==============================] - 9s 7ms/step - loss: 1.7307 - accuracy: 0.3817 - val_loss: 1.6722 - val_accuracy: 0.3957\n",
      "Epoch 3/10\n",
      "1250/1250 [==============================] - 10s 8ms/step - loss: 1.6643 - accuracy: 0.4049 - val_loss: 1.6549 - val_accuracy: 0.4069\n",
      "Epoch 4/10\n",
      "1250/1250 [==============================] - 9s 7ms/step - loss: 1.6110 - accuracy: 0.4275 - val_loss: 1.6469 - val_accuracy: 0.4045\n",
      "Epoch 5/10\n",
      "1250/1250 [==============================] - 11s 9ms/step - loss: 1.5789 - accuracy: 0.4378 - val_loss: 1.5905 - val_accuracy: 0.4313\n",
      "Epoch 6/10\n",
      "1250/1250 [==============================] - 10s 8ms/step - loss: 1.5472 - accuracy: 0.4521 - val_loss: 1.5571 - val_accuracy: 0.4463\n",
      "Epoch 7/10\n",
      "1250/1250 [==============================] - 10s 8ms/step - loss: 1.5277 - accuracy: 0.4565 - val_loss: 1.5802 - val_accuracy: 0.4328\n",
      "Epoch 8/10\n",
      "1250/1250 [==============================] - 11s 9ms/step - loss: 1.5111 - accuracy: 0.4609 - val_loss: 1.5673 - val_accuracy: 0.4327\n",
      "Epoch 9/10\n",
      "1250/1250 [==============================] - 10s 8ms/step - loss: 1.4937 - accuracy: 0.4656 - val_loss: 1.5809 - val_accuracy: 0.4415\n",
      "Epoch 10/10\n",
      "1250/1250 [==============================] - 10s 8ms/step - loss: 1.4822 - accuracy: 0.4694 - val_loss: 1.5577 - val_accuracy: 0.4424\n",
      "313/313 [==============================] - 1s 2ms/step\n",
      "Deep Neural Network Validation Accuracy: 44.24%\n"
     ]
    }
   ],
   "source": [
    "import numpy as np\n",
    "from sklearn import datasets, model_selection\n",
    "from sklearn.metrics import accuracy_score\n",
    "from sklearn.ensemble import RandomForestClassifier\n",
    "from sklearn.svm import SVC\n",
    "from sklearn.neural_network import MLPClassifier\n",
    "import tensorflow as tf\n",
    "from tensorflow import keras\n",
    "from tensorflow.keras import layers\n",
    "\n",
    "# Load an image dataset (e.g., CIFAR-10)\n",
    "(X_train, y_train), (X_test, y_test) = keras.datasets.cifar10.load_data()\n",
    "\n",
    "# Flatten the images and scale the pixel values to the range [0, 1]\n",
    "X_train = X_train.reshape(-1, 32*32*3) / 255.0\n",
    "X_test = X_test.reshape(-1, 32*32*3) / 255.0\n",
    "\n",
    "# Split the data into training and testing sets\n",
    "X_train, X_val, y_train, y_val = model_selection.train_test_split(X_train, y_train, test_size=0.2, random_state=42)\n",
    "\n",
    "# Define and train classification models\n",
    "models = [\n",
    "    (\"Random Forest\", RandomForestClassifier(n_estimators=100, random_state=42)),\n",
    "    (\"Support Vector Machine\", SVC(kernel='linear', C=1)),\n",
    "    (\"Neural Network\", MLPClassifier(hidden_layer_sizes=(128, 64), max_iter=100, random_state=42)),\n",
    "]\n",
    "\n",
    "for name, model in models:\n",
    "    print(f\"Training {name}...\")\n",
    "    model.fit(X_train, y_train)\n",
    "    y_pred = model.predict(X_val)\n",
    "    accuracy = accuracy_score(y_val, y_pred)\n",
    "    print(f\"{name} Validation Accuracy: {accuracy:.2%}\")\n",
    "\n",
    "# Create a deep neural network model using TensorFlow/Keras\n",
    "def create_neural_network():\n",
    "    model = keras.Sequential([\n",
    "        layers.Input(shape=(32*32*3,)),\n",
    "        layers.Dense(128, activation='relu'),\n",
    "        layers.Dense(64, activation='relu'),\n",
    "        layers.Dense(10, activation='softmax')\n",
    "    ])\n",
    "    model.compile(optimizer='adam', loss='sparse_categorical_crossentropy', metrics=['accuracy'])\n",
    "    return model\n",
    "\n",
    "print(\"Training Deep Neural Network...\")\n",
    "nn_model = create_neural_network()\n",
    "nn_model.fit(X_train, y_train, epochs=10, validation_data=(X_val, y_val))\n",
    "\n",
    "# Evaluate the deep neural network\n",
    "y_nn_pred = nn_model.predict(X_val)\n",
    "nn_accuracy = accuracy_score(y_val, np.argmax(y_nn_pred, axis=1))\n",
    "print(f\"Deep Neural Network Validation Accuracy: {nn_accuracy:.2%}\")"
   ]
  },
  {
   "cell_type": "code",
   "execution_count": null,
   "id": "bba397c8",
   "metadata": {},
   "outputs": [],
   "source": []
  }
 ],
 "metadata": {
  "kernelspec": {
   "display_name": "Python 3 (ipykernel)",
   "language": "python",
   "name": "python3"
  },
  "language_info": {
   "codemirror_mode": {
    "name": "ipython",
    "version": 3
   },
   "file_extension": ".py",
   "mimetype": "text/x-python",
   "name": "python",
   "nbconvert_exporter": "python",
   "pygments_lexer": "ipython3",
   "version": "3.11.4"
  }
 },
 "nbformat": 4,
 "nbformat_minor": 5
}
