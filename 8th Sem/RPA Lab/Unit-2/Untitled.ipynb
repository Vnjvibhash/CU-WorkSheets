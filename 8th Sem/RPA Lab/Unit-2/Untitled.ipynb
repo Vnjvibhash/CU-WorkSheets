{
 "cells": [
  {
   "cell_type": "code",
   "execution_count": 2,
   "id": "d2b26c5f",
   "metadata": {},
   "outputs": [
    {
     "name": "stdout",
     "output_type": "stream",
     "text": [
      "WARNING:tensorflow:From C:\\Users\\Vivekajee\\AppData\\Roaming\\Python\\Python311\\site-packages\\keras\\src\\backend.py:873: The name tf.get_default_graph is deprecated. Please use tf.compat.v1.get_default_graph instead.\n",
      "\n",
      "WARNING:tensorflow:From C:\\Users\\Vivekajee\\AppData\\Roaming\\Python\\Python311\\site-packages\\keras\\src\\optimizers\\__init__.py:309: The name tf.train.Optimizer is deprecated. Please use tf.compat.v1.train.Optimizer instead.\n",
      "\n",
      "WARNING:tensorflow:From C:\\Users\\Vivekajee\\AppData\\Roaming\\Python\\Python311\\site-packages\\keras\\src\\utils\\tf_utils.py:492: The name tf.ragged.RaggedTensorValue is deprecated. Please use tf.compat.v1.ragged.RaggedTensorValue instead.\n",
      "\n",
      "WARNING:tensorflow:From C:\\Users\\Vivekajee\\AppData\\Roaming\\Python\\Python311\\site-packages\\keras\\src\\engine\\base_layer_utils.py:384: The name tf.executing_eagerly_outside_functions is deprecated. Please use tf.compat.v1.executing_eagerly_outside_functions instead.\n",
      "\n",
      "1/1 [==============================] - 0s 250ms/step\n",
      "Decision: Accept\n"
     ]
    }
   ],
   "source": [
    "import numpy as np\n",
    "import pandas as pd\n",
    "from sklearn.datasets import load_iris\n",
    "from sklearn.model_selection import train_test_split\n",
    "from sklearn.preprocessing import StandardScaler\n",
    "from sklearn.metrics import accuracy_score, classification_report\n",
    "import logging\n",
    "import tensorflow as tf\n",
    "from tensorflow.keras.models import Sequential\n",
    "from tensorflow.keras.layers import Dense\n",
    "\n",
    "logging.basicConfig(filename='decision_making.log', level=logging.INFO)\n",
    "\n",
    "iris = load_iris()\n",
    "X = iris.data\n",
    "y = iris.target\n",
    "\n",
    "def preprocess_data(X):\n",
    "    return X\n",
    "\n",
    "def select_model():\n",
    "    model = Sequential([\n",
    "        Dense(10, input_shape=(4,), activation='relu'),\n",
    "        Dense(3, activation='softmax')\n",
    "    ])\n",
    "    model.compile(optimizer='adam', loss='sparse_categorical_crossentropy', metrics=['accuracy'])\n",
    "    return model\n",
    "\n",
    "def train_model(model, X_train, y_train):\n",
    "    model.fit(X_train, y_train, epochs=50, batch_size=8, verbose=0)\n",
    "\n",
    "def make_decision(model, data):\n",
    "    predictions = np.argmax(model.predict(data), axis=-1)\n",
    "    return predictions\n",
    "\n",
    "def handle_errors(exception):\n",
    "    logging.error(str(exception))\n",
    "\n",
    "def main():\n",
    "    try:\n",
    "        X_processed = preprocess_data(X)\n",
    "        X_train, X_test, y_train, y_test = train_test_split(X_processed, y, test_size=0.2, random_state=42)\n",
    "        scaler = StandardScaler()\n",
    "        X_train = scaler.fit_transform(X_train)\n",
    "        X_test = scaler.transform(X_test)\n",
    "        model = select_model()\n",
    "        train_model(model, X_train, y_train)\n",
    "        predictions = make_decision(model, X_test)\n",
    "        accuracy = accuracy_score(y_test, predictions)\n",
    "        logging.info(f'Model accuracy: {accuracy}')\n",
    "        logging.info(f'Classification report: {classification_report(y_test, predictions)}')\n",
    "        results_df = pd.DataFrame({'Actual': y_test, 'Predicted': predictions})\n",
    "        results_df.to_csv('decision_results_ann.csv', index=False)\n",
    "        decision = \"Accept\" if accuracy > 0.8 else \"Reject\"\n",
    "        print(\"Decision:\", decision)\n",
    "    except Exception as e:\n",
    "        handle_errors(e)\n",
    "\n",
    "main()"
   ]
  },
  {
   "cell_type": "code",
   "execution_count": null,
   "id": "8f99eab7",
   "metadata": {},
   "outputs": [],
   "source": []
  }
 ],
 "metadata": {
  "kernelspec": {
   "display_name": "Python 3 (ipykernel)",
   "language": "python",
   "name": "python3"
  },
  "language_info": {
   "codemirror_mode": {
    "name": "ipython",
    "version": 3
   },
   "file_extension": ".py",
   "mimetype": "text/x-python",
   "name": "python",
   "nbconvert_exporter": "python",
   "pygments_lexer": "ipython3",
   "version": "3.11.5"
  }
 },
 "nbformat": 4,
 "nbformat_minor": 5
}
